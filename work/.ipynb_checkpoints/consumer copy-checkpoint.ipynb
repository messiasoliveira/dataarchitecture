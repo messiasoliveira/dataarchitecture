{
 "cells": [
  {
   "cell_type": "code",
   "execution_count": null,
   "id": "00855ac4-003a-4013-9055-d2c3e1ad6b42",
   "metadata": {},
   "outputs": [],
   "source": [
    "!pip install elasticsearch\n",
    "!pip install pandas\n",
    "!pip install kafka-python"
   ]
  },
  {
   "cell_type": "code",
   "execution_count": null,
   "id": "16529c8b",
   "metadata": {},
   "outputs": [],
   "source": [
    "import pandas as pd\n",
    "import json\n",
    "\n",
    "from kafka-python import KafkaConsumer\n",
    "from elasticsearch import Elasticsearch\n",
    "from elasticsearch import helpers\n"
   ]
  },
  {
   "cell_type": "code",
   "execution_count": null,
   "id": "675dfc50",
   "metadata": {},
   "outputs": [],
   "source": [
    "# Configuração do consumidor\n",
    "bootstrap_servers = ['172.25.0.12:9092']\n",
    "topic = 'yfinance-data'\n",
    "consumer = KafkaConsumer(topic, bootstrap_servers=bootstrap_servers,\n",
    "                         value_deserializer=lambda x: json.loads(x.decode('utf-8')))\n",
    "for message in consumer:\n",
    "    data = message.value\n",
    "    # Processar os dados\n",
    "    print(data['Open'])"
   ]
  },
  {
   "cell_type": "code",
   "execution_count": null,
   "id": "7557f0fb",
   "metadata": {},
   "outputs": [],
   "source": [
    "# Criar um DataFrame para armazenar os dados\n",
    "df = pd.DataFrame()\n",
    "\n",
    "for message in consumer:\n",
    "    data = message.value\n",
    "    df = df.append(data, ignore_index=True)\n",
    "\n",
    "# Analisar o DataFrame\n",
    "print(df.describe())"
   ]
  },
  {
   "cell_type": "code",
   "execution_count": null,
   "id": "5b206003",
   "metadata": {},
   "outputs": [],
   "source": [
    "# Configuração do Elasticsearch\n",
    "es = Elasticsearch(['http://172.25.0.25:9200'])\n",
    "index_name = 'yfinance_data'\n",
    "\n",
    "# Criar o índice (se não existir)\n",
    "es.indices.create(index=index_name, ignore=400)"
   ]
  },
  {
   "cell_type": "code",
   "execution_count": null,
   "id": "c45ef801",
   "metadata": {},
   "outputs": [],
   "source": [
    "# Inserir os dados no Elasticsearch\n",
    "for index, row in df.iterrows():\n",
    "    es.index(index=index_name, id=index, body=row.to_dict())"
   ]
  },
  {
   "cell_type": "code",
   "execution_count": null,
   "id": "4ff63648",
   "metadata": {},
   "outputs": [],
   "source": [
    "actions = []\n",
    "for index, row in df.iterrows():\n",
    "    actions.append({\n",
    "        '_index': index_name,\n",
    "        '_id': index,\n",
    "        '_source': row.to_dict()\n",
    "    })\n",
    "\n",
    "# Executar a operação em bulk\n",
    "helpers.bulk(es, actions)"
   ]
  },
  {
   "cell_type": "code",
   "execution_count": null,
   "id": "310b414f",
   "metadata": {},
   "outputs": [],
   "source": []
  },
  {
   "cell_type": "code",
   "execution_count": null,
   "id": "9646db5a",
   "metadata": {},
   "outputs": [],
   "source": []
  },
  {
   "cell_type": "code",
   "execution_count": null,
   "id": "7b77913f",
   "metadata": {},
   "outputs": [],
   "source": []
  }
 ],
 "metadata": {
  "kernelspec": {
   "display_name": "Python 3 (ipykernel)",
   "language": "python",
   "name": "python3"
  },
  "language_info": {
   "codemirror_mode": {
    "name": "ipython",
    "version": 3
   },
   "file_extension": ".py",
   "mimetype": "text/x-python",
   "name": "python",
   "nbconvert_exporter": "python",
   "pygments_lexer": "ipython3",
   "version": "3.11.6"
  }
 },
 "nbformat": 4,
 "nbformat_minor": 5
}
