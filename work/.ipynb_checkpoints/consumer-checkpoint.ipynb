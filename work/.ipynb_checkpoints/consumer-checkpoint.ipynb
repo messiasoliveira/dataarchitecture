{
 "cells": [
  {
   "cell_type": "code",
   "execution_count": null,
   "id": "00855ac4-003a-4013-9055-d2c3e1ad6b42",
   "metadata": {},
   "outputs": [
    {
     "name": "stdout",
     "output_type": "stream",
     "text": [
      "Collecting elasticsearch\n",
      "  Downloading elasticsearch-8.15.1-py3-none-any.whl.metadata (8.7 kB)\n",
      "Collecting elastic-transport<9,>=8.13 (from elasticsearch)\n",
      "  Downloading elastic_transport-8.15.0-py3-none-any.whl.metadata (3.6 kB)\n",
      "Requirement already satisfied: urllib3<3,>=1.26.2 in /opt/conda/lib/python3.11/site-packages (from elastic-transport<9,>=8.13->elasticsearch) (2.0.7)\n",
      "Requirement already satisfied: certifi in /opt/conda/lib/python3.11/site-packages (from elastic-transport<9,>=8.13->elasticsearch) (2023.7.22)\n",
      "Downloading elasticsearch-8.15.1-py3-none-any.whl (524 kB)\n",
      "\u001b[2K   \u001b[90m━━━━━━━━━━━━━━━━━━━━━━━━━━━━━━━━━━━━━━━━\u001b[0m \u001b[32m524.6/524.6 kB\u001b[0m \u001b[31m2.7 MB/s\u001b[0m eta \u001b[36m0:00:00\u001b[0ma \u001b[36m0:00:01\u001b[0m\n",
      "\u001b[?25hDownloading elastic_transport-8.15.0-py3-none-any.whl (64 kB)\n",
      "\u001b[2K   \u001b[90m━━━━━━━━━━━━━━━━━━━━━━━━━━━━━━━━━━━━━━━━\u001b[0m \u001b[32m64.4/64.4 kB\u001b[0m \u001b[31m6.3 MB/s\u001b[0m eta \u001b[36m0:00:00\u001b[0m\n",
      "\u001b[?25hInstalling collected packages: elastic-transport, elasticsearch\n",
      "Successfully installed elastic-transport-8.15.0 elasticsearch-8.15.1\n",
      "Requirement already satisfied: pandas in /opt/conda/lib/python3.11/site-packages (2.0.0)\n",
      "Requirement already satisfied: python-dateutil>=2.8.2 in /opt/conda/lib/python3.11/site-packages (from pandas) (2.8.2)\n",
      "Requirement already satisfied: pytz>=2020.1 in /opt/conda/lib/python3.11/site-packages (from pandas) (2023.3.post1)\n",
      "Requirement already satisfied: tzdata>=2022.1 in /opt/conda/lib/python3.11/site-packages (from pandas) (2024.2)\n",
      "Requirement already satisfied: numpy>=1.21.0 in /opt/conda/lib/python3.11/site-packages (from pandas) (1.24.2)\n",
      "Requirement already satisfied: six>=1.5 in /opt/conda/lib/python3.11/site-packages (from python-dateutil>=2.8.2->pandas) (1.16.0)\n"
     ]
    }
   ],
   "source": [
    "!pip install elasticsearch\n",
    "!pip install pandas\n",
    "!pip install kafka-python"
   ]
  },
  {
   "cell_type": "code",
   "execution_count": null,
   "id": "16529c8b",
   "metadata": {},
   "outputs": [],
   "source": [
    "import pandas as pd\n",
    "import json\n",
    "from kafka-python import KafkaConsumer\n",
    "from elasticsearch import Elasticsearch\n",
    "from elasticsearch import helpers\n"
   ]
  },
  {
   "cell_type": "code",
   "execution_count": null,
   "id": "675dfc50",
   "metadata": {},
   "outputs": [],
   "source": [
    "# Configuração do consumidor\n",
    "bootstrap_servers = ['172.25.0.12:9092']\n",
    "topic = 'yfinance-data'\n",
    "consumer = KafkaConsumer(topic, bootstrap_servers=bootstrap_servers,\n",
    "                         value_deserializer=lambda x: json.loads(x.decode('utf-8')))\n",
    "for message in consumer:\n",
    "    data = message.value\n",
    "    # Processar os dados\n",
    "    print(data['Open'])"
   ]
  },
  {
   "cell_type": "code",
   "execution_count": null,
   "id": "7557f0fb",
   "metadata": {},
   "outputs": [],
   "source": [
    "# Criar um DataFrame para armazenar os dados\n",
    "df = pd.DataFrame()\n",
    "\n",
    "for message in consumer:\n",
    "    data = message.value\n",
    "    df = df.append(data, ignore_index=True)\n",
    "\n",
    "# Analisar o DataFrame\n",
    "print(df.describe())"
   ]
  },
  {
   "cell_type": "code",
   "execution_count": null,
   "id": "5b206003",
   "metadata": {},
   "outputs": [],
   "source": [
    "# Configuração do Elasticsearch\n",
    "es = Elasticsearch(['http://172.25.0.25:9200'])\n",
    "index_name = 'yfinance_data'\n",
    "\n",
    "# Criar o índice (se não existir)\n",
    "es.indices.create(index=index_name, ignore=400)"
   ]
  },
  {
   "cell_type": "code",
   "execution_count": null,
   "id": "c45ef801",
   "metadata": {},
   "outputs": [],
   "source": [
    "# Inserir os dados no Elasticsearch\n",
    "for index, row in df.iterrows():\n",
    "    es.index(index=index_name, id=index, body=row.to_dict())"
   ]
  },
  {
   "cell_type": "code",
   "execution_count": null,
   "id": "4ff63648",
   "metadata": {},
   "outputs": [],
   "source": [
    "actions = []\n",
    "for index, row in df.iterrows():\n",
    "    actions.append({\n",
    "        '_index': index_name,\n",
    "        '_id': index,\n",
    "        '_source': row.to_dict()\n",
    "    })\n",
    "\n",
    "# Executar a operação em bulk\n",
    "helpers.bulk(es, actions)"
   ]
  }
 ],
 "metadata": {
  "kernelspec": {
   "display_name": "Python 3 (ipykernel)",
   "language": "python",
   "name": "python3"
  },
  "language_info": {
   "codemirror_mode": {
    "name": "ipython",
    "version": 3
   },
   "file_extension": ".py",
   "mimetype": "text/x-python",
   "name": "python",
   "nbconvert_exporter": "python",
   "pygments_lexer": "ipython3",
   "version": "3.11.6"
  }
 },
 "nbformat": 4,
 "nbformat_minor": 5
}
