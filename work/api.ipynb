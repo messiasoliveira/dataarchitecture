{
 "cells": [
  {
   "cell_type": "code",
   "execution_count": null,
   "id": "1e4fee91",
   "metadata": {},
   "outputs": [],
   "source": [
    "!pip install flask\n",
    "!pip install elasticsearch"
   ]
  },
  {
   "cell_type": "code",
   "execution_count": null,
   "id": "79b6fd0b",
   "metadata": {},
   "outputs": [],
   "source": [
    "from flask import Flask, request, jsonify\n",
    "from elasticsearch import Elasticsearch\n",
    "\n",
    "app = Flask(__name__)\n",
    "\n",
    "# Conectar ao Elasticsearch\n",
    "es = Elasticsearch(['http://172.25.0.25:9200'])\n",
    "\n",
    "# Endpoint para buscar dados\n",
    "@app.route('/search', methods=['GET'])\n",
    "def search():\n",
    "    # Obter os parâmetros da requisição\n",
    "    query = request.args.get('query')\n",
    "\n",
    "    # Construir a query Elasticsearch\n",
    "    body = {\n",
    "        \"query\": {\n",
    "            \"match\": {\n",
    "                \"campo\": query\n",
    "            }\n",
    "        }\n",
    "    }\n",
    "\n",
    "    # Executar a busca\n",
    "    results = es.search(index=\"yfinance_data\", body=body)\n",
    "\n",
    "    # Retornar os resultados em formato JSON\n",
    "    return jsonify(results['hits']['hits'])\n",
    "\n",
    "if __name__ == '__main__':\n",
    "    app.run(host='0.0.0.0', port=5000)"
   ]
  }
 ],
 "metadata": {
  "kernelspec": {
   "display_name": "Python 3 (ipykernel)",
   "language": "python",
   "name": "python3"
  },
  "language_info": {
   "codemirror_mode": {
    "name": "ipython",
    "version": 3
   },
   "file_extension": ".py",
   "mimetype": "text/x-python",
   "name": "python",
   "nbconvert_exporter": "python",
   "pygments_lexer": "ipython3",
   "version": "3.11.6"
  }
 },
 "nbformat": 4,
 "nbformat_minor": 5
}
